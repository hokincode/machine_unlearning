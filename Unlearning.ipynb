{
 "cells": [
  {
   "cell_type": "code",
   "execution_count": 4,
   "id": "d5757100",
   "metadata": {},
   "outputs": [
    {
     "name": "stdout",
     "output_type": "stream",
     "text": [
      "Downloading http://yann.lecun.com/exdb/mnist/train-images-idx3-ubyte.gz\n",
      "Downloading http://yann.lecun.com/exdb/mnist/train-images-idx3-ubyte.gz to /Users/billdeng/PycharmProjects/machine_unlearning/MNIST/raw/train-images-idx3-ubyte.gz\n"
     ]
    },
    {
     "name": "stderr",
     "output_type": "stream",
     "text": [
      "100%|██████████| 9912422/9912422 [00:00<00:00, 34023066.75it/s]\n"
     ]
    },
    {
     "name": "stdout",
     "output_type": "stream",
     "text": [
      "Extracting /Users/billdeng/PycharmProjects/machine_unlearning/MNIST/raw/train-images-idx3-ubyte.gz to /Users/billdeng/PycharmProjects/machine_unlearning/MNIST/raw\n",
      "\n",
      "Downloading http://yann.lecun.com/exdb/mnist/train-labels-idx1-ubyte.gz\n",
      "Downloading http://yann.lecun.com/exdb/mnist/train-labels-idx1-ubyte.gz to /Users/billdeng/PycharmProjects/machine_unlearning/MNIST/raw/train-labels-idx1-ubyte.gz\n"
     ]
    },
    {
     "name": "stderr",
     "output_type": "stream",
     "text": [
      "100%|██████████| 28881/28881 [00:00<00:00, 36552713.89it/s]"
     ]
    },
    {
     "name": "stdout",
     "output_type": "stream",
     "text": [
      "Extracting /Users/billdeng/PycharmProjects/machine_unlearning/MNIST/raw/train-labels-idx1-ubyte.gz to /Users/billdeng/PycharmProjects/machine_unlearning/MNIST/raw\n",
      "\n",
      "Downloading http://yann.lecun.com/exdb/mnist/t10k-images-idx3-ubyte.gz\n",
      "Downloading http://yann.lecun.com/exdb/mnist/t10k-images-idx3-ubyte.gz to /Users/billdeng/PycharmProjects/machine_unlearning/MNIST/raw/t10k-images-idx3-ubyte.gz\n"
     ]
    },
    {
     "name": "stderr",
     "output_type": "stream",
     "text": [
      "\n",
      "100%|██████████| 1648877/1648877 [00:00<00:00, 16199919.41it/s]\n"
     ]
    },
    {
     "name": "stdout",
     "output_type": "stream",
     "text": [
      "Extracting /Users/billdeng/PycharmProjects/machine_unlearning/MNIST/raw/t10k-images-idx3-ubyte.gz to /Users/billdeng/PycharmProjects/machine_unlearning/MNIST/raw\n",
      "\n",
      "Downloading http://yann.lecun.com/exdb/mnist/t10k-labels-idx1-ubyte.gz\n",
      "Downloading http://yann.lecun.com/exdb/mnist/t10k-labels-idx1-ubyte.gz to /Users/billdeng/PycharmProjects/machine_unlearning/MNIST/raw/t10k-labels-idx1-ubyte.gz\n"
     ]
    },
    {
     "name": "stderr",
     "output_type": "stream",
     "text": [
      "100%|██████████| 4542/4542 [00:00<00:00, 4228752.22it/s]\n"
     ]
    },
    {
     "name": "stdout",
     "output_type": "stream",
     "text": [
      "Extracting /Users/billdeng/PycharmProjects/machine_unlearning/MNIST/raw/t10k-labels-idx1-ubyte.gz to /Users/billdeng/PycharmProjects/machine_unlearning/MNIST/raw\n",
      "\n",
      "Starting training...\n",
      "Epoch 0, Batch 0, Loss: 2.3993215560913086\n"
     ]
    },
    {
     "ename": "KeyboardInterrupt",
     "evalue": "",
     "output_type": "error",
     "traceback": [
      "\u001B[0;31m---------------------------------------------------------------------------\u001B[0m",
      "\u001B[0;31mKeyboardInterrupt\u001B[0m                         Traceback (most recent call last)",
      "Cell \u001B[0;32mIn[4], line 111\u001B[0m\n\u001B[1;32m    108\u001B[0m net\u001B[38;5;241m.\u001B[39mto(DEVICE)\n\u001B[1;32m    110\u001B[0m \u001B[38;5;28mprint\u001B[39m(\u001B[38;5;124m\"\u001B[39m\u001B[38;5;124mStarting training...\u001B[39m\u001B[38;5;124m\"\u001B[39m)\n\u001B[0;32m--> 111\u001B[0m neurogenesis_unlearning(net, retain_loader, forget_loader, validation_loader)\n\u001B[1;32m    112\u001B[0m state \u001B[38;5;241m=\u001B[39m net\u001B[38;5;241m.\u001B[39mstate_dict()\n\u001B[1;32m    113\u001B[0m torch\u001B[38;5;241m.\u001B[39msave(state, os\u001B[38;5;241m.\u001B[39mpath\u001B[38;5;241m.\u001B[39mjoin(model_save_dir, \u001B[38;5;124m'\u001B[39m\u001B[38;5;124munlearned_checkpoint.pth\u001B[39m\u001B[38;5;124m'\u001B[39m))\n",
      "Cell \u001B[0;32mIn[4], line 66\u001B[0m, in \u001B[0;36mneurogenesis_unlearning\u001B[0;34m(net, retain_loader, forget_loader, val_loader, turnover_rate, turnover_frequency)\u001B[0m\n\u001B[1;32m     64\u001B[0m outputs \u001B[38;5;241m=\u001B[39m net(inputs)\n\u001B[1;32m     65\u001B[0m loss \u001B[38;5;241m=\u001B[39m criterion(outputs, targets)\n\u001B[0;32m---> 66\u001B[0m loss\u001B[38;5;241m.\u001B[39mbackward()\n\u001B[1;32m     67\u001B[0m optimizer\u001B[38;5;241m.\u001B[39mstep()\n\u001B[1;32m     69\u001B[0m \u001B[38;5;66;03m# Neurogenesis: Turnover neurons\u001B[39;00m\n",
      "File \u001B[0;32m~/anaconda3/envs/unlearning_Version1/lib/python3.11/site-packages/torch/_tensor.py:487\u001B[0m, in \u001B[0;36mTensor.backward\u001B[0;34m(self, gradient, retain_graph, create_graph, inputs)\u001B[0m\n\u001B[1;32m    477\u001B[0m \u001B[38;5;28;01mif\u001B[39;00m has_torch_function_unary(\u001B[38;5;28mself\u001B[39m):\n\u001B[1;32m    478\u001B[0m     \u001B[38;5;28;01mreturn\u001B[39;00m handle_torch_function(\n\u001B[1;32m    479\u001B[0m         Tensor\u001B[38;5;241m.\u001B[39mbackward,\n\u001B[1;32m    480\u001B[0m         (\u001B[38;5;28mself\u001B[39m,),\n\u001B[0;32m   (...)\u001B[0m\n\u001B[1;32m    485\u001B[0m         inputs\u001B[38;5;241m=\u001B[39minputs,\n\u001B[1;32m    486\u001B[0m     )\n\u001B[0;32m--> 487\u001B[0m torch\u001B[38;5;241m.\u001B[39mautograd\u001B[38;5;241m.\u001B[39mbackward(\n\u001B[1;32m    488\u001B[0m     \u001B[38;5;28mself\u001B[39m, gradient, retain_graph, create_graph, inputs\u001B[38;5;241m=\u001B[39minputs\n\u001B[1;32m    489\u001B[0m )\n",
      "File \u001B[0;32m~/anaconda3/envs/unlearning_Version1/lib/python3.11/site-packages/torch/autograd/__init__.py:200\u001B[0m, in \u001B[0;36mbackward\u001B[0;34m(tensors, grad_tensors, retain_graph, create_graph, grad_variables, inputs)\u001B[0m\n\u001B[1;32m    195\u001B[0m     retain_graph \u001B[38;5;241m=\u001B[39m create_graph\n\u001B[1;32m    197\u001B[0m \u001B[38;5;66;03m# The reason we repeat same the comment below is that\u001B[39;00m\n\u001B[1;32m    198\u001B[0m \u001B[38;5;66;03m# some Python versions print out the first line of a multi-line function\u001B[39;00m\n\u001B[1;32m    199\u001B[0m \u001B[38;5;66;03m# calls in the traceback and some print out the last line\u001B[39;00m\n\u001B[0;32m--> 200\u001B[0m Variable\u001B[38;5;241m.\u001B[39m_execution_engine\u001B[38;5;241m.\u001B[39mrun_backward(  \u001B[38;5;66;03m# Calls into the C++ engine to run the backward pass\u001B[39;00m\n\u001B[1;32m    201\u001B[0m     tensors, grad_tensors_, retain_graph, create_graph, inputs,\n\u001B[1;32m    202\u001B[0m     allow_unreachable\u001B[38;5;241m=\u001B[39m\u001B[38;5;28;01mTrue\u001B[39;00m, accumulate_grad\u001B[38;5;241m=\u001B[39m\u001B[38;5;28;01mTrue\u001B[39;00m)\n",
      "\u001B[0;31mKeyboardInterrupt\u001B[0m: "
     ]
    }
   ],
   "source": [
    "import os\n",
    "import subprocess\n",
    "import torch\n",
    "from torchvision import transforms, datasets\n",
    "from torch.utils.data import DataLoader, Dataset\n",
    "from torchvision.models import resnet18\n",
    "import torch.nn as nn\n",
    "import torch.optim as optim\n",
    "\n",
    "# 使用 CPU\n",
    "DEVICE = torch.device('cpu')\n",
    "\n",
    "# HiddenDataset 类定义\n",
    "class HiddenDataset(Dataset):\n",
    "    def __init__(self, split='train'):\n",
    "        super().__init__()\n",
    "        self.transform = transforms.Compose([\n",
    "            transforms.Resize((224, 224)), # 调整图像大小以适应 ResNet\n",
    "            transforms.ToTensor(),\n",
    "            transforms.Normalize((0.1307,), (0.3081,))\n",
    "        ])\n",
    "\n",
    "        if split == 'train':\n",
    "            self.dataset = datasets.MNIST(root='/Users/billdeng/PycharmProjects/machine_unlearning/data', train=True, download=True, transform=self.transform)\n",
    "        else:\n",
    "            self.dataset = datasets.MNIST(root='/Users/billdeng/PycharmProjects/machine_unlearning/data', train=False, download=True, transform=self.transform)\n",
    "\n",
    "    def __len__(self):\n",
    "        return len(self.dataset)\n",
    "\n",
    "    def __getitem__(self, idx):\n",
    "        image, label = self.dataset[idx]\n",
    "        return {'image': image, 'age_group': label}\n",
    "\n",
    "# 获取数据集\n",
    "def get_dataset(batch_size):\n",
    "    retain_ds = HiddenDataset(split='train')\n",
    "    forget_ds = HiddenDataset(split='validation')\n",
    "    val_ds = HiddenDataset(split='validation')\n",
    "\n",
    "    retain_loader = DataLoader(retain_ds, batch_size=batch_size, shuffle=True)\n",
    "    forget_loader = DataLoader(forget_ds, batch_size=batch_size, shuffle=True)\n",
    "    validation_loader = DataLoader(val_ds, batch_size=batch_size, shuffle=True)\n",
    "\n",
    "    return retain_loader, forget_loader, validation_loader\n",
    "\n",
    "# 新的 unlearning 函数\n",
    "def neurogenesis_unlearning(net, retain_loader, forget_loader, val_loader, turnover_rate=0.032, turnover_frequency=640):\n",
    "    epochs = 1  # 只进行一次迭代\n",
    "    criterion = nn.CrossEntropyLoss()\n",
    "    optimizer = optim.SGD(net.parameters(), lr=0.001, momentum=0.9, weight_decay=5e-4)\n",
    "    scheduler = torch.optim.lr_scheduler.CosineAnnealingLR(optimizer, T_max=epochs)\n",
    "    net.train()\n",
    "\n",
    "    minibatch_count = 0\n",
    "    for ep in range(epochs):\n",
    "        net.train()\n",
    "        for batch_idx, sample in enumerate(retain_loader):\n",
    "            inputs = sample[\"image\"]\n",
    "            targets = sample[\"age_group\"]\n",
    "            inputs, targets = inputs.to(DEVICE), targets.to(DEVICE)\n",
    "\n",
    "            optimizer.zero_grad()\n",
    "            outputs = net(inputs)\n",
    "            loss = criterion(outputs, targets)\n",
    "            loss.backward()\n",
    "            optimizer.step()\n",
    "\n",
    "            # Neurogenesis: Turnover neurons\n",
    "            if minibatch_count % turnover_frequency == 0:\n",
    "                turnover_neurons(net, turnover_rate)\n",
    "            \n",
    "            minibatch_count += 1\n",
    "\n",
    "            # 每 10 个批次打印一次状态信息\n",
    "            if batch_idx % 10 == 0:\n",
    "                print(f\"Epoch {ep}, Batch {batch_idx}, Loss: {loss.item()}\")\n",
    "\n",
    "        scheduler.step()\n",
    "        \n",
    "    net.eval()\n",
    "\n",
    "def turnover_neurons(net, turnover_rate):\n",
    "    # Identify the layer for neurogenesis (e.g., the last fully connected layer)\n",
    "    layer = net.fc\n",
    "    total_neurons = layer.weight.data.shape[0]\n",
    "    turnover_count = int(total_neurons * turnover_rate)\n",
    "\n",
    "    # Select random neurons for turnover\n",
    "    turnover_indices = torch.randperm(total_neurons)[:turnover_count]\n",
    "\n",
    "    # Reinitialize weights of selected neurons\n",
    "    for idx in turnover_indices:\n",
    "        layer.weight.data[idx] = torch.nn.init.uniform_(layer.weight.data[idx], a=0, b=1)\n",
    "        if layer.bias is not None:\n",
    "            layer.bias.data[idx] = torch.nn.init.uniform_(layer.bias.data[idx], a=0, b=1)\n",
    "\n",
    "# 创建模型保存目录\n",
    "model_save_dir = '/Users/billdeng/PycharmProjects/machine_unlearning'\n",
    "os.makedirs(model_save_dir, exist_ok=True)\n",
    "\n",
    "# 训练和保存模型\n",
    "retain_loader, forget_loader, validation_loader = get_dataset(64)\n",
    "\n",
    "# 初始化 ResNet18 模型并修改第一个卷积层\n",
    "net = resnet18(weights=None, num_classes=10)\n",
    "net.conv1 = torch.nn.Conv2d(1, 64, kernel_size=7, stride=2, padding=3, bias=False)  # 修改为单通道输入\n",
    "net.to(DEVICE)\n",
    "\n",
    "print(\"Starting training...\")\n",
    "neurogenesis_unlearning(net, retain_loader, forget_loader, validation_loader)\n",
    "state = net.state_dict()\n",
    "torch.save(state, os.path.join(model_save_dir, 'unlearned_checkpoint.pth'))\n",
    "print(\"Training completed.\")\n",
    "\n",
    "# 打包模型检查点\n",
    "subprocess.run(f'zip {os.path.join(model_save_dir, \"submission.zip\")} {os.path.join(model_save_dir, \"*.pth\")}', shell=True)\n"
   ]
  },
  {
   "cell_type": "code",
   "execution_count": null,
   "id": "b2c283d4",
   "metadata": {},
   "outputs": [],
   "source": []
  }
 ],
 "metadata": {
  "kernelspec": {
   "display_name": "Python 3 (ipykernel)",
   "language": "python",
   "name": "python3"
  },
  "language_info": {
   "codemirror_mode": {
    "name": "ipython",
    "version": 3
   },
   "file_extension": ".py",
   "mimetype": "text/x-python",
   "name": "python",
   "nbconvert_exporter": "python",
   "pygments_lexer": "ipython3",
   "version": "3.9.13"
  }
 },
 "nbformat": 4,
 "nbformat_minor": 5
}
